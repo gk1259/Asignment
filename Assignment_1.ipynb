{
 "cells": [
  {
   "cell_type": "markdown",
   "id": "66a2e9a1-f7c8-468c-b46e-033ce536044e",
   "metadata": {},
   "source": [
    "Assignment No. : 1"
   ]
  },
  {
   "cell_type": "markdown",
   "id": "4f2ca854-add8-4333-9185-cefc0a865692",
   "metadata": {},
   "source": [
    "1. Who developed Python Programming Language?"
   ]
  },
  {
   "cell_type": "markdown",
   "id": "865f4f27-3261-4ff7-a343-d7ff8d753576",
   "metadata": {},
   "source": [
    "Ans. Guido van Rossum developed the Python programming language, which was released as Python 0.9.0 on 20 February 1991."
   ]
  },
  {
   "cell_type": "markdown",
   "id": "1e24baa6-2b65-4bbf-bf27-0863bd98cbb7",
   "metadata": {},
   "source": [
    "2. Which type of Programming does python support?"
   ]
  },
  {
   "cell_type": "markdown",
   "id": "d54ac58d-e484-4064-8872-b2d78030f54a",
   "metadata": {},
   "source": [
    "Ans. Python supports a multi-paradigm programming language. Which has some features that make it a multi-paradigm programming language.\n",
    "\n",
    "a.\tUses immutable data\n",
    "b.\tIt is very easy to write bug-free code\n",
    "c.\tEasier to read and understand\n",
    "d.\tLess prone to logical error\n",
    "e.\tErrors are more easily found\n",
    "f.\tMakes the program easy to understand as well as efficient"
   ]
  },
  {
   "cell_type": "markdown",
   "id": "d3da5329-f937-4cff-8e40-067db4dc06be",
   "metadata": {},
   "source": [
    "3. Is Python Case Sensitive when dealing with identifiers?"
   ]
  },
  {
   "cell_type": "markdown",
   "id": "172b98e4-da6a-4f0e-8c00-73b596330f21",
   "metadata": {},
   "source": [
    "Ans. Yes, Python is a case sensitive language, as it treats uppercase and lowercase characters differently.\n",
    "\n",
    "For Example,\n",
    "In Python, \"Ram\" and \"ram\" are treated as two different words, because the 'R' in \"Ram\" is uppercase and the 'r' in \"ram\" is lowercase, even though they are the same word."
   ]
  },
  {
   "cell_type": "markdown",
   "id": "3b9ef6cd-3874-4a2f-9f7b-9b626ac8eaec",
   "metadata": {},
   "source": [
    "4. What is the correct extension of the Python file?"
   ]
  },
  {
   "cell_type": "markdown",
   "id": "0251d9ca-3863-4911-be8d-b94d2e6c9276",
   "metadata": {},
   "source": [
    "Ans. The correct extension is the Python file .py"
   ]
  },
  {
   "cell_type": "markdown",
   "id": "5f6c027c-2c15-462f-8d4a-4ab3a8a225e8",
   "metadata": {},
   "source": [
    "5. Is Python code compiled or interpreted?"
   ]
  },
  {
   "cell_type": "markdown",
   "id": "c9ad53cb-75df-43a1-bd47-d3c563a4d772",
   "metadata": {},
   "source": [
    "Ans. Python code is interpreted as it reads the statement line-by-line and then returns the result."
   ]
  },
  {
   "cell_type": "markdown",
   "id": "9b72193c-ce92-4ba4-9bb4-b618daab08e9",
   "metadata": {},
   "source": [
    "6. Name a few blocks of code used to define in Python language?"
   ]
  },
  {
   "cell_type": "markdown",
   "id": "cab80263-96c4-48e2-9b30-bd0122365d3a",
   "metadata": {},
   "source": [
    "Ans. Indentation is used in Python to define a block of code, which is a piece of Python program text that is executed as a unit."
   ]
  },
  {
   "cell_type": "markdown",
   "id": "93810e53-9a1c-49b3-bebe-51a0ff7848be",
   "metadata": {},
   "source": [
    "7. State a character used to give single-line comments in Python?"
   ]
  },
  {
   "cell_type": "markdown",
   "id": "58e8b830-43a7-41eb-8205-abb0f6652ee6",
   "metadata": {},
   "source": [
    "Ans. Hash(#) is used for single-line comments in Python."
   ]
  },
  {
   "cell_type": "markdown",
   "id": "7a07af9c-e800-449e-ac4a-a05b068b01a8",
   "metadata": {},
   "source": [
    "8. Mention functions which can help us to find the version of python that we are currently working on?"
   ]
  },
  {
   "cell_type": "markdown",
   "id": "fa1ee66c-1ce5-498c-97be-6270b42a9d07",
   "metadata": {},
   "source": [
    "Ans. sys. version can help us find the version of python we are currently working on. This is a string containing the build number and compiler information."
   ]
  },
  {
   "cell_type": "markdown",
   "id": "22dc95dc-24d6-490b-83cf-5706656f60a2",
   "metadata": {},
   "source": [
    "9. Python supports the creation of anonymous functions at runtime, using a construct called ______"
   ]
  },
  {
   "cell_type": "markdown",
   "id": "d14685b6-b58a-4c50-9e61-2f46d3703ac0",
   "metadata": {},
   "source": [
    "Ans. Python supports the creation of anonymous functions at runtime, using a construct called lambda."
   ]
  },
  {
   "cell_type": "markdown",
   "id": "cd0a8bad-4a6c-4bb4-8cf5-2890912494c6",
   "metadata": {},
   "source": [
    "10. What does pip stand for python?"
   ]
  },
  {
   "cell_type": "markdown",
   "id": "fe48c84c-c711-4eb1-987d-9e905e027b29",
   "metadata": {},
   "source": [
    "Ans. pip stands for 'preferred installer program'. It is a command-line utility that installs, reinstalls or uninstalls PyPI packages with one simple command."
   ]
  },
  {
   "cell_type": "markdown",
   "id": "a225e186-4f54-416e-bafc-ee0b3fe7802e",
   "metadata": {},
   "source": [
    "11. Mention a few built-in functions in python?"
   ]
  },
  {
   "cell_type": "markdown",
   "id": "1c980a4e-93c5-421d-bfcb-aae06867f1e1",
   "metadata": {},
   "source": [
    "Ans. Python has many built-in functions. Some functions are given below.\n",
    "\n",
    "1. print() : Prints to the standard output device.\n",
    "2. type()  : Returns the type of specified object.\n",
    "3. len()   : Returns the number of items in an object.\n",
    "4. bool()  : Returns the boolean value of a specified object.\n",
    "5. sum()   : The sum of all items in an iterable.\n",
    "6. count() : Returns the number of times an item appears in a list.\n",
    "7. dict()  : Creates a dictionary\n",
    "8. float() : Returns a floating point number\n",
    "9. str()   : Returns a string object\n",
    "10. set()  : Returns a new set object\n",
    "11. slice(): Returns a slice object"
   ]
  },
  {
   "cell_type": "markdown",
   "id": "9e7b35b2-90a0-4610-ad48-9da9e6dcc408",
   "metadata": {},
   "source": [
    "12. What is the maximum possible length of an identifier in Python?"
   ]
  },
  {
   "cell_type": "markdown",
   "id": "3de41854-32fc-4201-acff-8cda72c5ef07",
   "metadata": {},
   "source": [
    "Ans. An identifier can have a maximum length of 79 characters in Python."
   ]
  },
  {
   "cell_type": "markdown",
   "id": "453a3ac6-9b12-4a1e-8f61-edcf997f845f",
   "metadata": {},
   "source": [
    "13. What are the benefits of using Python?"
   ]
  },
  {
   "cell_type": "markdown",
   "id": "20e57586-556c-4c39-bbbd-ad5c52530c94",
   "metadata": {},
   "source": [
    "Ans. According to me, the benefits of using Python which are as follows:-\n",
    "1. Easy to learn\n",
    "2. Simple\n",
    "3. clean\n",
    "4. Interpreter \n",
    "5. Portable\n",
    "6. Extensive Library\n",
    "7. Write less do more\n",
    "8. Very concise syntax"
   ]
  },
  {
   "cell_type": "markdown",
   "id": "a90ad89e-6bf9-488a-a11c-ad20e85bbc64",
   "metadata": {},
   "source": [
    "14. How is memory managed in Python?"
   ]
  },
  {
   "cell_type": "markdown",
   "id": "e302e599-cc18-45ab-9019-40ced3e47f2f",
   "metadata": {},
   "source": [
    "Ans. Memory in Python is managed by Python private heap space that holds all Python objects and data structures."
   ]
  },
  {
   "cell_type": "markdown",
   "id": "39742c95-d177-49bb-a575-cff767509107",
   "metadata": {},
   "source": [
    "15. How to install python on windows and set path variables?"
   ]
  },
  {
   "cell_type": "markdown",
   "id": "8b3cc958-c9c6-424b-a7e3-ac74b35a8b13",
   "metadata": {},
   "source": [
    "Ans. Install Python on windows steps are mentioned below;\n",
    "\n",
    "Step 1 : Open a browser\n",
    "Step 2 : Go to Python website\n",
    "Step 3 : Go to download (Index)\n",
    "Step 4 : Find windows supported python installer\n",
    "Step 5 : Click on dowload\n",
    "Setp 6 : Find download file\n",
    "Step 7 : Right click on python installer\n",
    "Step 8 : After that run python and tick add path variables\n",
    "\n",
    "Set path variables\n",
    "\n",
    "Step 1 : Find Advanced System Settings\n",
    "Step 2 : Click on environment variables\n",
    "Step 3 : Go to system variables \n",
    "Step 4 : find path\n",
    "Step 5 : Click on path and edit\n",
    "Step 6 : Create a new path after the path is opened"
   ]
  },
  {
   "cell_type": "markdown",
   "id": "a31a7e9e-8e38-4162-9089-0fc0b4cbea61",
   "metadata": {},
   "source": [
    "16. Is indentation required in python?"
   ]
  },
  {
   "cell_type": "markdown",
   "id": "4aa149b7-b873-47c4-bf84-64e292e0b599",
   "metadata": {},
   "source": [
    "Ans. Yes, indentation required in Python as it refers to spaces at the beginning of a code line. While in other programming languages indentation is only for readability, that is why indentation is very important in Python."
   ]
  }
 ],
 "metadata": {
  "kernelspec": {
   "display_name": "Python 3 (ipykernel)",
   "language": "python",
   "name": "python3"
  },
  "language_info": {
   "codemirror_mode": {
    "name": "ipython",
    "version": 3
   },
   "file_extension": ".py",
   "mimetype": "text/x-python",
   "name": "python",
   "nbconvert_exporter": "python",
   "pygments_lexer": "ipython3",
   "version": "3.10.8"
  }
 },
 "nbformat": 4,
 "nbformat_minor": 5
}
